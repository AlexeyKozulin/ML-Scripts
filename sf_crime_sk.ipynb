{
 "cells": [
  {
   "cell_type": "code",
   "execution_count": 4,
   "metadata": {},
   "outputs": [],
   "source": [
    "import pandas\n",
    "import numpy\n",
    "import sklearn.cross_validation\n",
    "import sklearn.ensemble\n",
    "import sklearn.linear_model\n",
    "import sklearn.preprocessing\n",
    "import sklearn.metrics\n",
    "import time \n",
    "import datetime\n",
    "import sklearn.preprocessing\n",
    "import sklearn.multiclass\n",
    "import matplotlib.pyplot as plt\n",
    "%matplotlib inline"
   ]
  },
  {
   "cell_type": "code",
   "execution_count": 6,
   "metadata": {},
   "outputs": [
    {
     "data": {
      "text/html": [
       "<div>\n",
       "<table border=\"1\" class=\"dataframe\">\n",
       "  <thead>\n",
       "    <tr style=\"text-align: right;\">\n",
       "      <th></th>\n",
       "      <th>Dates</th>\n",
       "      <th>Category</th>\n",
       "      <th>Descript</th>\n",
       "      <th>DayOfWeek</th>\n",
       "      <th>PdDistrict</th>\n",
       "      <th>Resolution</th>\n",
       "      <th>Address</th>\n",
       "      <th>X</th>\n",
       "      <th>Y</th>\n",
       "    </tr>\n",
       "  </thead>\n",
       "  <tbody>\n",
       "    <tr>\n",
       "      <th>0</th>\n",
       "      <td>2015-05-13 23:53:00</td>\n",
       "      <td>WARRANTS</td>\n",
       "      <td>WARRANT ARREST</td>\n",
       "      <td>Wednesday</td>\n",
       "      <td>NORTHERN</td>\n",
       "      <td>ARREST, BOOKED</td>\n",
       "      <td>OAK ST / LAGUNA ST</td>\n",
       "      <td>-122.425892</td>\n",
       "      <td>37.774599</td>\n",
       "    </tr>\n",
       "    <tr>\n",
       "      <th>1</th>\n",
       "      <td>2015-05-13 23:53:00</td>\n",
       "      <td>OTHER OFFENSES</td>\n",
       "      <td>TRAFFIC VIOLATION ARREST</td>\n",
       "      <td>Wednesday</td>\n",
       "      <td>NORTHERN</td>\n",
       "      <td>ARREST, BOOKED</td>\n",
       "      <td>OAK ST / LAGUNA ST</td>\n",
       "      <td>-122.425892</td>\n",
       "      <td>37.774599</td>\n",
       "    </tr>\n",
       "    <tr>\n",
       "      <th>2</th>\n",
       "      <td>2015-05-13 23:33:00</td>\n",
       "      <td>OTHER OFFENSES</td>\n",
       "      <td>TRAFFIC VIOLATION ARREST</td>\n",
       "      <td>Wednesday</td>\n",
       "      <td>NORTHERN</td>\n",
       "      <td>ARREST, BOOKED</td>\n",
       "      <td>VANNESS AV / GREENWICH ST</td>\n",
       "      <td>-122.424363</td>\n",
       "      <td>37.800414</td>\n",
       "    </tr>\n",
       "    <tr>\n",
       "      <th>3</th>\n",
       "      <td>2015-05-13 23:30:00</td>\n",
       "      <td>LARCENY/THEFT</td>\n",
       "      <td>GRAND THEFT FROM LOCKED AUTO</td>\n",
       "      <td>Wednesday</td>\n",
       "      <td>NORTHERN</td>\n",
       "      <td>NONE</td>\n",
       "      <td>1500 Block of LOMBARD ST</td>\n",
       "      <td>-122.426995</td>\n",
       "      <td>37.800873</td>\n",
       "    </tr>\n",
       "    <tr>\n",
       "      <th>4</th>\n",
       "      <td>2015-05-13 23:30:00</td>\n",
       "      <td>LARCENY/THEFT</td>\n",
       "      <td>GRAND THEFT FROM LOCKED AUTO</td>\n",
       "      <td>Wednesday</td>\n",
       "      <td>PARK</td>\n",
       "      <td>NONE</td>\n",
       "      <td>100 Block of BRODERICK ST</td>\n",
       "      <td>-122.438738</td>\n",
       "      <td>37.771541</td>\n",
       "    </tr>\n",
       "  </tbody>\n",
       "</table>\n",
       "</div>"
      ]
     },
     "output_type": "execute_result",
     "metadata": {}
    }
   ],
   "source": [
    "data = pandas.read_csv('SF_Crime/train.csv')\n",
    "data.head()"
   ]
  },
  {
   "cell_type": "code",
   "execution_count": 7,
   "metadata": {},
   "outputs": [],
   "source": [
    "cat_list = ['ARSON','ASSAULT','BAD CHECKS','BRIBERY','BURGLARY','DISORDERLY CONDUCT','DRIVING UNDER THE INFLUENCE','DRUG/NARCOTIC','DRUNKENNESS','EMBEZZLEMENT',\n",
    "    'EXTORTION','FAMILY OFFENSES','FORGERY/COUNTERFEITING','FRAUD','GAMBLING','KIDNAPPING','LARCENY/THEFT','LIQUOR LAWS','LOITERING','MISSING PERSON',\n",
    "    'NON-CRIMINAL','OTHER OFFENSES','PORNOGRAPHY/OBSCENE MAT','PROSTITUTION','RECOVERED VEHICLE','ROBBERY','RUNAWAY','SECONDARY CODES','SEX OFFENSES FORCIBLE',\n",
    "    'SEX OFFENSES NON FORCIBLE','STOLEN PROPERTY','SUICIDE','SUSPICIOUS OCC','TREA','TRESPASS','VANDALISM','VEHICLE THEFT','WARRANTS','WEAPON LAWS']"
   ]
  },
  {
   "cell_type": "code",
   "execution_count": 9,
   "metadata": {},
   "outputs": [
    {
     "data": {
      "text/plain": [
       "LARCENY/THEFT                  174900\nOTHER OFFENSES                 126182\nNON-CRIMINAL                    92304\nASSAULT                         76876\nDRUG/NARCOTIC                   53971\nVEHICLE THEFT                   53781\nVANDALISM                       44725\nWARRANTS                        42214\nBURGLARY                        36755\nSUSPICIOUS OCC                  31414\nMISSING PERSON                  25989\nROBBERY                         23000\nFRAUD                           16679\nFORGERY/COUNTERFEITING          10609\nSECONDARY CODES                  9985\nWEAPON LAWS                      8555\nPROSTITUTION                     7484\nTRESPASS                         7326\nSTOLEN PROPERTY                  4540\nSEX OFFENSES FORCIBLE            4388\nDISORDERLY CONDUCT               4320\nDRUNKENNESS                      4280\nRECOVERED VEHICLE                3138\nKIDNAPPING                       2341\nDRIVING UNDER THE INFLUENCE      2268\nRUNAWAY                          1946\nLIQUOR LAWS                      1903\nARSON                            1513\nLOITERING                        1225\nEMBEZZLEMENT                     1166\nSUICIDE                           508\nFAMILY OFFENSES                   491\nBAD CHECKS                        406\nBRIBERY                           289\nEXTORTION                         256\nSEX OFFENSES NON FORCIBLE         148\nGAMBLING                          146\nPORNOGRAPHY/OBSCENE MAT            22\nTREA                                6\nName: Category, dtype: int64"
      ]
     },
     "execution_count": 9,
     "output_type": "execute_result",
     "metadata": {}
    }
   ],
   "source": [
    "data.Category.value_counts()"
   ]
  },
  {
   "cell_type": "code",
   "execution_count": 11,
   "metadata": {},
   "outputs": [
    {
     "name": "stdout",
     "output_type": "stream",
     "text": [
      "(878049L, 39L)\n"
     ]
    }
   ],
   "source": [
    "y = numpy.zeros((len(data), len(cat_list)))\n",
    "print y.shape"
   ]
  },
  {
   "cell_type": "code",
   "execution_count": 14,
   "metadata": {},
   "outputs": [
    {
     "name": "stdout",
     "output_type": "stream",
     "text": [
      "878049.0\n"
     ]
    }
   ],
   "source": [
    "for i in xrange(len(data)):\n",
    "    y[i, cat_list.index(data.Category[i])] = 1\n",
    "print y.sum()"
   ]
  },
  {
   "cell_type": "heading",
   "metadata": {},
   "level": 2,
   "source": [
    "Majority Class Prediction (log_loss = 27.65)"
   ]
  },
  {
   "cell_type": "code",
   "execution_count": 16,
   "metadata": {},
   "outputs": [],
   "source": [
    "pred = numpy.zeros((len(data), len(cat_list)))\n",
    "pred[:, cat_list.index('LARCENY/THEFT')] = 1"
   ]
  },
  {
   "cell_type": "code",
   "execution_count": 17,
   "metadata": {},
   "outputs": [
    {
     "name": "stdout",
     "output_type": "stream",
     "text": [
      "27.6589416801\n"
     ]
    }
   ],
   "source": [
    "print sklearn.metrics.log_loss(y, pred)"
   ]
  },
  {
   "cell_type": "heading",
   "metadata": {},
   "level": 2,
   "source": [
    "Dummy Classifier (log_loss = 2.68)"
   ]
  },
  {
   "cell_type": "code",
   "execution_count": null,
   "metadata": {},
   "outputs": [],
   "source": [
    "vals = data.Category.value_counts()\n",
    "n = len(data)\n",
    "n_cat = len(cat_list)\n",
    "pred = numpy.zeros((n, n_cat))\n",
    "for i in range(n_cat):\n",
    "    pred[:, i] = vals[cat_list[i]] / float(n)\n",
    "print sklearn.metrics.log_loss(y, pred)\n",
    "\n",
    "test_data = pandas.read_csv('SF_Crime/test.csv')\n",
    "sub_data = test_data[['Id']]\n",
    "for cat in cat_list:\n",
    "    sub_data[cat] = vals[cat]/float(n)\n",
    "sub_data.to_csv('SF_Crime/sub_dummy.csv', index=False, float_format='%.4f')"
   ]
  },
  {
   "cell_type": "heading",
   "metadata": {},
   "level": 2,
   "source": [
    "Unwrap PdDistricts and WeekDays, drop descriptive columns ('Descript','Resolution'), convert Dates"
   ]
  },
  {
   "cell_type": "code",
   "execution_count": 28,
   "metadata": {},
   "outputs": [],
   "source": [
    "district_unwrap = pandas.get_dummies(data.PdDistrict, prefix='District')\n",
    "mod_data = data.join(district_unwrap)"
   ]
  },
  {
   "cell_type": "code",
   "execution_count": 29,
   "metadata": {},
   "outputs": [],
   "source": [
    "weekDays_unwrap = pandas.get_dummies(data.DayOfWeek, prefix='DayOfWeek')\n",
    "mod_data = mod_data.join(weekDays_unwrap)"
   ]
  },
  {
   "cell_type": "code",
   "execution_count": 30,
   "metadata": {},
   "outputs": [],
   "source": [
    "mod_data['DateTime'] = pandas.to_datetime(mod_data.Dates)\n",
    "mod_data['Year'] = mod_data.DateTime.apply(lambda x: x.year)\n",
    "mod_data['Hour'] = mod_data.DateTime.apply(lambda x: x.hour)"
   ]
  },
  {
   "cell_type": "code",
   "execution_count": 31,
   "metadata": {},
   "outputs": [],
   "source": [
    "year_unwrap = pandas.get_dummies(mod_data.Year, prefix='Year')\n",
    "mod_data = mod_data.join(year_unwrap)"
   ]
  },
  {
   "cell_type": "code",
   "execution_count": 32,
   "metadata": {},
   "outputs": [],
   "source": [
    "hours_unwrap = pandas.get_dummies(mod_data.Hour, prefix='Hour')\n",
    "mod_data = mod_data.join(hours_unwrap)"
   ]
  },
  {
   "cell_type": "code",
   "execution_count": 33,
   "metadata": {},
   "outputs": [],
   "source": [
    "mod_data.drop(['PdDistrict', 'DayOfWeek', 'Dates','DateTime','Hour', \n",
    "               'Descript','Resolution', 'Category'], axis=1, inplace=True)"
   ]
  },
  {
   "cell_type": "heading",
   "metadata": {},
   "level": 2,
   "source": [
    "Analyze"
   ]
  },
  {
   "cell_type": "code",
   "execution_count": 35,
   "metadata": {},
   "outputs": [
    {
     "name": "stdout",
     "output_type": "stream",
     "text": [
      "Index([u'Address', u'X', u'Y', u'District_BAYVIEW', u'District_CENTRAL',\n       u'District_INGLESIDE', u'District_MISSION', u'District_NORTHERN',\n       u'District_PARK', u'District_RICHMOND', u'District_SOUTHERN',\n       u'District_TARAVAL', u'District_TENDERLOIN', u'DayOfWeek_Friday',\n       u'DayOfWeek_Monday', u'DayOfWeek_Saturday', u'DayOfWeek_Sunday',\n       u'DayOfWeek_Thursday', u'DayOfWeek_Tuesday', u'DayOfWeek_Wednesday',\n       u'Year', u'Year_2003', u'Year_2004', u'Year_2005', u'Year_2006',\n       u'Year_2007', u'Year_2008', u'Year_2009', u'Year_2010', u'Year_2011',\n       u'Year_2012', u'Year_2013', u'Year_2014', u'Year_2015', u'Hour_0',\n       u'Hour_1', u'Hour_2', u'Hour_3', u'Hour_4', u'Hour_5', u'Hour_6',\n       u'Hour_7', u'Hour_8', u'Hour_9', u'Hour_10', u'Hour_11', u'Hour_12',\n       u'Hour_13', u'Hour_14', u'Hour_15', u'Hour_16', u'Hour_17', u'Hour_18',\n       u'Hour_19', u'Hour_20', u'Hour_21', u'Hour_22', u'Hour_23'],\n      dtype='object')\n"
     ]
    }
   ],
   "source": [
    "print mod_data.columns"
   ]
  },
  {
   "cell_type": "code",
   "execution_count": 36,
   "metadata": {},
   "outputs": [],
   "source": [
    "hours = range(24)\n",
    "y_1 = y[:,cat_list.index('LARCENY/THEFT')]\n",
    "y_2 = y[:,cat_list.index('ASSAULT')]\n",
    "y_3 = y[:,cat_list.index('DRUG/NARCOTIC')]"
   ]
  },
  {
   "cell_type": "code",
   "execution_count": null,
   "metadata": {},
   "outputs": [],
   "source": [
    ""
   ]
  },
  {
   "cell_type": "code",
   "execution_count": 63,
   "metadata": {},
   "outputs": [],
   "source": [
    "res_1 = [(mod_data.ix[:,'Hour_%d'%x] * y_1).sum()/float(mod_data.ix[:,'Hour_%d'%x].sum()) for x in hours]\n",
    "res_2 = [(mod_data.ix[:,'Hour_%d'%x] * y_2).sum()/float(mod_data.ix[:,'Hour_%d'%x].sum()) for x in hours]\n",
    "res_3 = [(mod_data.ix[:,'Hour_%d'%x] * y_3).sum()/float(mod_data.ix[:,'Hour_%d'%x].sum()) for x in hours]"
   ]
  },
  {
   "cell_type": "code",
   "execution_count": 91,
   "metadata": {},
   "outputs": [
    {
     "data": {
      "text/plain": [
       "<matplotlib.legend.Legend at 0x74f099e8>"
      ]
     },
     "execution_count": 91,
     "output_type": "execute_result",
     "metadata": {}
    },
    {
     "data": {
      "image/png": "[encoded data removed]"
     },
     "output_type": "display_data",
     "text": [
      "<matplotlib.figure.Figure at 0x74df85c0>"
     ],
     "metadata": {}
    }
   ],
   "source": [
    "plt.plot(hours,res_1,'b')\n",
    "plt.plot(hours,res_2,'g')\n",
    "plt.plot(hours,res_3,'r')\n",
    "plt.legend(['LARCENY/THEFT','ASSAULT','DRUG/NARCOTIC'],loc='top left',fontsize='medium')"
   ]
  },
  {
   "cell_type": "code",
   "execution_count": 92,
   "metadata": {},
   "outputs": [],
   "source": [
    "years = range(2003,2016)\n",
    "res_y1 = [(mod_data.ix[:,'Year_%d'%x] * y_1).sum()/float(mod_data.ix[:,'Year_%d'%x].sum()) for x in years]\n",
    "res_y2 = [(mod_data.ix[:,'Year_%d'%x] * y_2).sum()/float(mod_data.ix[:,'Year_%d'%x].sum()) for x in years]\n",
    "res_y3 = [(mod_data.ix[:,'Year_%d'%x] * y_3).sum()/float(mod_data.ix[:,'Year_%d'%x].sum()) for x in years]"
   ]
  },
  {
   "cell_type": "code",
   "execution_count": 93,
   "metadata": {},
   "outputs": [
    {
     "data": {
      "text/plain": [
       "<matplotlib.legend.Legend at 0x750f85c0>"
      ]
     },
     "execution_count": 93,
     "output_type": "execute_result",
     "metadata": {}
    },
    {
     "data": {
      "image/png": "[encoded data removed]"
     },
     "output_type": "display_data",
     "text": [
      "<matplotlib.figure.Figure at 0x606aa198>"
     ],
     "metadata": {}
    }
   ],
   "source": [
    "plt.plot(years,res_y1, 'b')\n",
    "plt.plot(years,res_y2, 'g')\n",
    "plt.plot(years,res_y3, 'r')\n",
    "plt.legend(['LARCENY/THEFT','ASSAULT','DRUG/NARCOTIC'],loc='top left',fontsize='medium')"
   ]
  },
  {
   "cell_type": "code",
   "execution_count": 84,
   "metadata": {},
   "outputs": [],
   "source": [
    "districts = data.PdDistrict.unique()\n",
    "res_d1 = [(mod_data.ix[:,'District_%s'%x] * y_1).sum()/float(mod_data.ix[:,'District_%s'%x].sum()) for x in districts]\n",
    "res_d2 = [(mod_data.ix[:,'District_%s'%x] * y_2).sum()/float(mod_data.ix[:,'District_%s'%x].sum()) for x in districts]\n",
    "res_d3 = [(mod_data.ix[:,'District_%s'%x] * y_3).sum()/float(mod_data.ix[:,'District_%s'%x].sum()) for x in districts]"
   ]
  },
  {
   "cell_type": "code",
   "execution_count": 90,
   "metadata": {},
   "outputs": [
    {
     "data": {
      "text/plain": [
       "([<matplotlib.axis.XTick at 0x5fce2780>,\n  <matplotlib.axis.XTick at 0x606b5320>,\n  <matplotlib.axis.XTick at 0x74ce5518>,\n  <matplotlib.axis.XTick at 0x74ce5a58>,\n  <matplotlib.axis.XTick at 0x74cf20f0>,\n  <matplotlib.axis.XTick at 0x74cf2748>,\n  <matplotlib.axis.XTick at 0x74cd9f98>,\n  <matplotlib.axis.XTick at 0x74cfd278>,\n  <matplotlib.axis.XTick at 0x74cfd8d0>,\n  <matplotlib.axis.XTick at 0x74cfdf28>],\n <a list of 10 Text xticklabel objects>)"
      ]
     },
     "execution_count": 90,
     "output_type": "execute_result",
     "metadata": {}
    },
    {
     "data": {
      "image/png": "[encoded data removed]"
     },
     "output_type": "display_data",
     "text": [
      "<matplotlib.figure.Figure at 0x60528a58>"
     ],
     "metadata": {}
    }
   ],
   "source": [
    "plt.plot(res_d1, 'b*')\n",
    "plt.plot(res_d2, 'g+')\n",
    "plt.plot(res_d3, 'ro')\n",
    "plt.legend(['LARCENY/THEFT','ASSAULT','DRUG/NARCOTIC'],loc='top left',fontsize='medium')\n",
    "plt.xticks(numpy.arange(10), districts, rotation=24)"
   ]
  },
  {
   "cell_type": "heading",
   "metadata": {},
   "level": 2,
   "source": [
    "Default models (LR log loss = 2.64)"
   ]
  },
  {
   "cell_type": "code",
   "execution_count": 19,
   "metadata": {},
   "outputs": [],
   "source": [
    "mod_data.drop(['Address'], axis=1, inplace=True)\n",
    "\n",
    "x_mean = data.X.mean()\n",
    "y_mean = data.Y.mean()\n",
    "x_std = data.X.std()\n",
    "y_std = data.Y.std()\n",
    "\n",
    "mod_data.X = (data.X - x_mean) / x_std\n",
    "mod_data.Y = (data.Y - y_mean) / y_std\n",
    "\n",
    "X_train, X_test, y_train, y_test = sklearn.cross_validation.train_test_split(mod_data, y,\n",
    "                                      test_size=0.3,\n",
    "                                      random_state=0)"
   ]
  },
  {
   "cell_type": "code",
   "execution_count": null,
   "metadata": {},
   "outputs": [],
   "source": [
    "clf_LR = sklearn.linear_model.LogisticRegression(penalty='l2', C=0.01, random_state=0)\n",
    "OVR = sklearn.multiclass.OneVsRestClassifier(clf_LR, n_jobs=-2)\n",
    "\n",
    "Cset = numpy.logspace(-5, 4, 20)\n",
    "scores = []\n",
    "for c in Cset:\n",
    "    clf_LR.C = c\n",
    "    OVR.fit(X_train, y_train)\n",
    "    pred = OVR.predict_proba(X_test)\n",
    "    score = sklearn.metrics.log_loss(y_test, pred)\n",
    "    print score\n",
    "    scores.append(score)"
   ]
  },
  {
   "cell_type": "heading",
   "metadata": {},
   "level": 2,
   "source": [
    "Gradient Descent"
   ]
  },
  {
   "cell_type": "code",
   "execution_count": null,
   "metadata": {},
   "outputs": [],
   "source": [
    "clf_GD = sklearn.ensemble.GradientBoostingClassifier(random_state=0, max_depth=3)\n",
    "clf_GD.n_estimators = 10\n",
    "clf_GD.verbose = True\n",
    "X_train, X_test, y_train, y_test = sklearn.cross_validation.train_test_split(mod_data, y,\n",
    "                                      test_size=0.3,\n",
    "                                      random_state=0)\n",
    "\n",
    "OVR_GD = sklearn.multiclass.OneVsRestClassifier(clf_GD)\n",
    "\n",
    "starttime = datetime.datetime.now()\n",
    "OVR_GD.fit(X_train, y_train)\n",
    "print 'Time elapsed:', datetime.datetime.now() - starttime\n",
    "pred = OVR_GD.predict_proba(X_test)\n",
    "print sklearn.metrics.log_loss(y_test, pred)"
   ]
  },
  {
   "cell_type": "heading",
   "metadata": {},
   "level": 2,
   "source": [
    "Submit"
   ]
  },
  {
   "cell_type": "code",
   "execution_count": null,
   "metadata": {},
   "outputs": [],
   "source": [
    "clf_LR.C = 100\n",
    "OVR.fit(mod_data, y)\n",
    "\n",
    "mod_test_data = test_data.copy()\n",
    "district_unwrap = pandas.get_dummies(mod_test_data.PdDistrict, prefix='District')\n",
    "mod_test_data = mod_test_data.join(district_unwrap)\n",
    "print 'done pd'\n",
    "\n",
    "weekDays_unwrap = pandas.get_dummies(mod_test_data.DayOfWeek, prefix='DayOfWeek')\n",
    "mod_test_data = mod_test_data.join(weekDays_unwrap)\n",
    "print 'done weekdays'\n",
    "\n",
    "mod_test_data['DateTime'] = pandas.to_datetime(mod_test_data.Dates)\n",
    "mod_test_data['Year'] = mod_test_data.DateTime.apply(lambda x: x.year)\n",
    "mod_test_data['Hour'] = mod_test_data.DateTime.apply(lambda x: x.hour)\n",
    "\n",
    "year_unwrap = pandas.get_dummies(mod_test_data.Year, prefix='Year')\n",
    "mod_test_data = mod_test_data.join(year_unwrap)\n",
    "print 'done years'\n",
    "\n",
    "hours_unwrap = pandas.get_dummies(mod_test_data.Hour, prefix='Hour')\n",
    "mod_test_data = mod_test_data.join(hours_unwrap)\n",
    "print 'done hours'\n",
    "\n",
    "mod_test_data.X = (test_data.X - x_mean) / x_std\n",
    "mod_test_data.Y = (test_data.Y - y_mean) / y_std\n",
    "\n",
    "mod_test_data.drop([u'Id', u'Dates', u'DayOfWeek', u'PdDistrict', u'Address', u'DateTime', u'Year', u'Hour'], axis=1, inplace=True)\n",
    "\n",
    "pred = OVR.predict_proba(mod_test_data)\n",
    "sub_data = test_data[['Id']]\n",
    "for i, cat in enumerate(cat_list):\n",
    "    sub_data[cat] = pred[:,i]\n",
    "sub_data.to_csv('SF_Crime/sub_LR.csv', index=False, float_format='%.4f')"
   ]
  },
  {
   "cell_type": "heading",
   "metadata": {},
   "level": 2,
   "source": [
    "KNeighbors"
   ]
  },
  {
   "cell_type": "code",
   "execution_count": null,
   "metadata": {},
   "outputs": [],
   "source": [
    "import sklearn.neighbors\n",
    "clf_KN = sklearn.neighbors.KNeighborsClassifier(n_neighbors=100, weights='distance')\n",
    "OVR_KN = sklearn.multiclass.OneVsRestClassifier(clf_KN)"
   ]
  },
  {
   "cell_type": "code",
   "execution_count": null,
   "metadata": {},
   "outputs": [],
   "source": [
    "starttime = datetime.datetime.now()\n",
    "kn_data = data[['X','Y']]\n",
    "kn_y = y\n",
    "OVR_KN.fit(kn_data, kn_y)\n",
    "print 'Time elapsed:', datetime.datetime.now() - starttime"
   ]
  },
  {
   "cell_type": "code",
   "execution_count": null,
   "metadata": {},
   "outputs": [],
   "source": [
    "kn_test = data[['X','Y']][:1000]\n",
    "starttime = datetime.datetime.now()\n",
    "OVR_KN.predict_proba(kn_test)\n",
    "print 'Time elapsed:', datetime.datetime.now() - starttime"
   ]
  },
  {
   "cell_type": "code",
   "execution_count": null,
   "metadata": {},
   "outputs": [],
   "source": [
    "X_train, X_test, y_train, y_test = sklearn.cross_validation.train_test_split(kn_data, y,\n",
    "                                      test_size=0.3,\n",
    "                                      random_state=0)\n",
    "OVR_KN.fit(X_train, y_train)\n",
    "pred = OVR_KN.predict_proba(X_test)\n",
    "sklearn.metrics.log_loss(y_test, pred)"
   ]
  }
 ],
 "metadata": {},
 "nbformat": 4,
 "nbformat_minor": 0
}