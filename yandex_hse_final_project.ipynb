{
 "cells": [
  {
   "cell_type": "markdown",
   "metadata": {},
   "source": [
    "# Final Project: Dota 2"
   ]
  },
  {
   "cell_type": "markdown",
   "metadata": {},
   "source": [
    "## Import libraries"
   ]
  },
  {
   "cell_type": "code",
   "execution_count": 2,
   "metadata": {},
   "outputs": [],
   "source": [
    "import pandas\n",
    "import numpy\n",
    "import sklearn.cross_validation\n",
    "import sklearn.ensemble\n",
    "import sklearn.linear_model\n",
    "import sklearn.preprocessing\n",
    "import sklearn.metrics\n",
    "import time \n",
    "import datetime\n",
    "import matplotlib.pyplot as plt\n",
    "%matplotlib inline"
   ]
  },
  {
   "cell_type": "markdown",
   "metadata": {},
   "source": [
    "## Load data"
   ]
  },
  {
   "cell_type": "code",
   "execution_count": 4,
   "metadata": {},
   "outputs": [],
   "source": [
    "data = pandas.read_csv('YandexCourse/w7/features.csv')"
   ]
  },
  {
   "cell_type": "code",
   "execution_count": 7,
   "metadata": {},
   "outputs": [
    {
     "data": {
      "text/html": [
       "<div>\n",
       "<table border=\"1\" class=\"dataframe\">\n",
       "  <thead>\n",
       "    <tr style=\"text-align: right;\">\n",
       "      <th></th>\n",
       "      <th>match_id</th>\n",
       "      <th>start_time</th>\n",
       "      <th>lobby_type</th>\n",
       "      <th>r1_hero</th>\n",
       "      <th>r1_level</th>\n",
       "      <th>r1_xp</th>\n",
       "      <th>r1_gold</th>\n",
       "      <th>r1_lh</th>\n",
       "      <th>r1_kills</th>\n",
       "      <th>r1_deaths</th>\n",
       "      <th>...</th>\n",
       "      <th>dire_boots_count</th>\n",
       "      <th>dire_ward_observer_count</th>\n",
       "      <th>dire_ward_sentry_count</th>\n",
       "      <th>dire_first_ward_time</th>\n",
       "      <th>duration</th>\n",
       "      <th>radiant_win</th>\n",
       "      <th>tower_status_radiant</th>\n",
       "      <th>tower_status_dire</th>\n",
       "      <th>barracks_status_radiant</th>\n",
       "      <th>barracks_status_dire</th>\n",
       "    </tr>\n",
       "  </thead>\n",
       "  <tbody>\n",
       "    <tr>\n",
       "      <th>0</th>\n",
       "      <td>0</td>\n",
       "      <td>1430198770</td>\n",
       "      <td>7</td>\n",
       "      <td>11</td>\n",
       "      <td>5</td>\n",
       "      <td>2098</td>\n",
       "      <td>1489</td>\n",
       "      <td>20</td>\n",
       "      <td>0</td>\n",
       "      <td>0</td>\n",
       "      <td>...</td>\n",
       "      <td>4</td>\n",
       "      <td>2</td>\n",
       "      <td>2</td>\n",
       "      <td>-52</td>\n",
       "      <td>2874</td>\n",
       "      <td>1</td>\n",
       "      <td>1796</td>\n",
       "      <td>0</td>\n",
       "      <td>51</td>\n",
       "      <td>0</td>\n",
       "    </tr>\n",
       "    <tr>\n",
       "      <th>1</th>\n",
       "      <td>1</td>\n",
       "      <td>1430220345</td>\n",
       "      <td>0</td>\n",
       "      <td>42</td>\n",
       "      <td>4</td>\n",
       "      <td>1188</td>\n",
       "      <td>1033</td>\n",
       "      <td>9</td>\n",
       "      <td>0</td>\n",
       "      <td>1</td>\n",
       "      <td>...</td>\n",
       "      <td>4</td>\n",
       "      <td>3</td>\n",
       "      <td>1</td>\n",
       "      <td>-5</td>\n",
       "      <td>2463</td>\n",
       "      <td>1</td>\n",
       "      <td>1974</td>\n",
       "      <td>0</td>\n",
       "      <td>63</td>\n",
       "      <td>1</td>\n",
       "    </tr>\n",
       "    <tr>\n",
       "      <th>2</th>\n",
       "      <td>2</td>\n",
       "      <td>1430227081</td>\n",
       "      <td>7</td>\n",
       "      <td>33</td>\n",
       "      <td>4</td>\n",
       "      <td>1319</td>\n",
       "      <td>1270</td>\n",
       "      <td>22</td>\n",
       "      <td>0</td>\n",
       "      <td>0</td>\n",
       "      <td>...</td>\n",
       "      <td>4</td>\n",
       "      <td>3</td>\n",
       "      <td>1</td>\n",
       "      <td>13</td>\n",
       "      <td>2130</td>\n",
       "      <td>0</td>\n",
       "      <td>0</td>\n",
       "      <td>1830</td>\n",
       "      <td>0</td>\n",
       "      <td>63</td>\n",
       "    </tr>\n",
       "    <tr>\n",
       "      <th>3</th>\n",
       "      <td>3</td>\n",
       "      <td>1430263531</td>\n",
       "      <td>1</td>\n",
       "      <td>29</td>\n",
       "      <td>4</td>\n",
       "      <td>1779</td>\n",
       "      <td>1056</td>\n",
       "      <td>14</td>\n",
       "      <td>0</td>\n",
       "      <td>0</td>\n",
       "      <td>...</td>\n",
       "      <td>4</td>\n",
       "      <td>2</td>\n",
       "      <td>0</td>\n",
       "      <td>27</td>\n",
       "      <td>1459</td>\n",
       "      <td>0</td>\n",
       "      <td>1920</td>\n",
       "      <td>2047</td>\n",
       "      <td>50</td>\n",
       "      <td>63</td>\n",
       "    </tr>\n",
       "    <tr>\n",
       "      <th>4</th>\n",
       "      <td>4</td>\n",
       "      <td>1430282290</td>\n",
       "      <td>7</td>\n",
       "      <td>13</td>\n",
       "      <td>4</td>\n",
       "      <td>1431</td>\n",
       "      <td>1090</td>\n",
       "      <td>8</td>\n",
       "      <td>1</td>\n",
       "      <td>0</td>\n",
       "      <td>...</td>\n",
       "      <td>3</td>\n",
       "      <td>3</td>\n",
       "      <td>0</td>\n",
       "      <td>-16</td>\n",
       "      <td>2449</td>\n",
       "      <td>0</td>\n",
       "      <td>4</td>\n",
       "      <td>1974</td>\n",
       "      <td>3</td>\n",
       "      <td>63</td>\n",
       "    </tr>\n",
       "  </tbody>\n",
       "</table>\n",
       "<p>5 rows × 109 columns</p>\n",
       "</div>"
      ]
     },
     "output_type": "execute_result",
     "metadata": {}
    }
   ],
   "source": [
    "data.head()"
   ]
  },
  {
   "cell_type": "markdown",
   "metadata": {},
   "source": [
    "## Get output column"
   ]
  },
  {
   "cell_type": "code",
   "execution_count": 6,
   "metadata": {},
   "outputs": [],
   "source": [
    "y = data['radiant_win']"
   ]
  },
  {
   "cell_type": "markdown",
   "metadata": {},
   "source": [
    "## Drop features which are absent in test data"
   ]
  },
  {
   "cell_type": "code",
   "execution_count": 8,
   "metadata": {},
   "outputs": [],
   "source": [
    "data = data.drop(['duration', 'radiant_win', 'tower_status_radiant', 'tower_status_dire', 'barracks_status_radiant', \n",
    "           'barracks_status_dire'], axis=1)"
   ]
  },
  {
   "cell_type": "markdown",
   "metadata": {},
   "source": [
    "## Get features with missed values"
   ]
  },
  {
   "cell_type": "code",
   "execution_count": 6,
   "metadata": {},
   "outputs": [
    {
     "name": "stdout",
     "output_type": "stream",
     "text": [
      "['first_blood_time', 'first_blood_team', 'first_blood_player1', 'first_blood_player2', 'radiant_bottle_time', 'radiant_courier_time', 'radiant_flying_courier_time', 'radiant_first_ward_time', 'dire_bottle_time', 'dire_courier_time', 'dire_flying_courier_time', 'dire_first_ward_time']\n"
     ]
    }
   ],
   "source": [
    "columns_with_misses = []\n",
    "for column in data.columns:\n",
    "    if data[column].count() != len(data):\n",
    "        columns_with_misses.append(column)\n",
    "print columns_with_misses"
   ]
  },
  {
   "cell_type": "markdown",
   "metadata": {},
   "source": [
    "We can see that some features that associated with events which might not happen in first 5 minutes of the game has some missed values. For example, all 4 feautures related to \"first blood\" event has missed values.\n",
    "\n",
    "(In russian): Мы можем видеть, что некоторые признаки, которые связаны с событиями, которые могут и не произойти в первые пять минут имеют пропущенные значения. Например, все четыре признака, связанные с событием \"Первая кровь\" имеют пропущенные значения."
   ]
  },
  {
   "cell_type": "markdown",
   "metadata": {},
   "source": [
    "## Fill missed values with zeros"
   ]
  },
  {
   "cell_type": "code",
   "execution_count": 9,
   "metadata": {},
   "outputs": [],
   "source": [
    "data = data.fillna(0)"
   ]
  },
  {
   "cell_type": "markdown",
   "metadata": {},
   "source": [
    "## Prepare k-fold "
   ]
  },
  {
   "cell_type": "code",
   "execution_count": 10,
   "metadata": {},
   "outputs": [],
   "source": [
    "kfold = sklearn.cross_validation.KFold(len(data), n_folds=5, shuffle=True, random_state=0)"
   ]
  },
  {
   "cell_type": "markdown",
   "metadata": {},
   "source": [
    "# Gradient Boosting"
   ]
  },
  {
   "cell_type": "markdown",
   "metadata": {},
   "source": [
    "## Choose number of estimators"
   ]
  },
  {
   "cell_type": "code",
   "execution_count": 21,
   "metadata": {},
   "outputs": [
    {
     "name": "stdout",
     "output_type": "stream",
     "text": [
      "Time elapsed for 1 estimators: 0:00:27.885000\nScore for 1 estimators: 0.59728480855\nTime elapsed for 5 estimators:"
     ]
    },
    {
     "name": "stdout",
     "output_type": "stream",
     "text": [
      " 0:01:51.621000\nScore for 5 estimators: 0.6346644138\nTime elapsed for 10 estimators:"
     ]
    },
    {
     "name": "stdout",
     "output_type": "stream",
     "text": [
      " 0:03:39.322000\nScore for 10 estimators: 0.663717389719\nTime elapsed for 20 estimators:"
     ]
    },
    {
     "name": "stdout",
     "output_type": "stream",
     "text": [
      " 0:07:51.050000\nScore for 20 estimators: 0.681722158281\nTime elapsed for 30 estimators:"
     ]
    },
    {
     "name": "stdout",
     "output_type": "stream",
     "text": [
      " 0:11:25.824000\nScore for 30 estimators: 0.688614863733\n"
     ]
    }
   ],
   "source": [
    "clf = sklearn.ensemble.GradientBoostingClassifier(random_state=0, max_depth=3)\n",
    "for n in [1, 5, 10, 20, 30]:\n",
    "    starttime = datetime.datetime.now()\n",
    "    clf.n_estimators = n\n",
    "    scores = sklearn.cross_validation.cross_val_score(clf, data, y, cv=kfold, scoring='roc_auc')\n",
    "    print 'Time elapsed for %i estimators:'%n, datetime.datetime.now() - starttime\n",
    "    print 'Score for %i estimators:'%n, scores.mean()"
   ]
  },
  {
   "cell_type": "markdown",
   "metadata": {},
   "source": [
    "## Check if 30 trees is enough"
   ]
  },
  {
   "cell_type": "code",
   "execution_count": 35,
   "metadata": {},
   "outputs": [
    {
     "name": "stdout",
     "output_type": "stream",
     "text": [
      "Time elapsed for fitting 400 trees: 0:21:34.967000\n"
     ]
    }
   ],
   "source": [
    "clf.n_estimators = 400\n",
    "clf.max_depth = 3\n",
    "X_train, X_test, y_train, y_test = sklearn.cross_validation.train_test_split(data, y,\n",
    "                                      test_size=0.3,\n",
    "                                      random_state=241)\n",
    "\n",
    "starttime = datetime.datetime.now()\n",
    "clf.fit(X_train, y_train)\n",
    "print 'Time elapsed for fitting %i trees:'%clf.n_estimators, datetime.datetime.now() - starttime\n",
    "\n",
    "scores = []\n",
    "for i, pred in enumerate(clf.staged_decision_function(X_test)):\n",
    "    scores.append(sklearn.metrics.roc_auc_score(y_test, pred) )"
   ]
  },
  {
   "cell_type": "code",
   "execution_count": 37,
   "metadata": {},
   "outputs": [],
   "source": [
    "scores_train = []\n",
    "for i, pred in enumerate(clf.staged_decision_function(X_train)):\n",
    "    scores_train.append(sklearn.metrics.roc_auc_score(y_train, pred) )"
   ]
  },
  {
   "cell_type": "code",
   "execution_count": 39,
   "metadata": {},
   "outputs": [
    {
     "data": {
      "image/png": "[encoded data removed]"
     },
     "output_type": "display_data",
     "text": [
      "<matplotlib.figure.Figure at 0x3650fe10>"
     ],
     "metadata": {}
    },
    {
     "name": "stdout",
     "output_type": "stream",
     "text": [
      "roc_auc score on 30 trees on test data: 0.691975966821\nroc_auc score on 400 trees on test data: 0.721292910462\n"
     ]
    }
   ],
   "source": [
    "x = range(1, len(scores) + 1)\n",
    "plt.plot(x, scores)\n",
    "plt.plot(x, scores_train, 'g')\n",
    "plt.legend(['test','train'])\n",
    "plt.xlabel('trees')\n",
    "plt.ylabel('roc_auc')\n",
    "plt.show()\n",
    "print \"roc_auc score on 30 trees on test data:\", scores[29]\n",
    "print \"roc_auc score on 400 trees on test data:\", scores[-1]"
   ]
  },
  {
   "cell_type": "markdown",
   "metadata": {},
   "source": [
    "We could get significally better model with more than 30 trees."
   ]
  },
  {
   "cell_type": "markdown",
   "metadata": {},
   "source": [
    "# Logistic Regression"
   ]
  },
  {
   "cell_type": "markdown",
   "metadata": {},
   "source": [
    "## Scale features"
   ]
  },
  {
   "cell_type": "code",
   "execution_count": 11,
   "metadata": {},
   "outputs": [],
   "source": [
    "scaler = sklearn.preprocessing.StandardScaler()\n",
    "scaled_data = scaler.fit_transform(data)"
   ]
  },
  {
   "cell_type": "markdown",
   "metadata": {},
   "source": [
    "## Choose regularization strength"
   ]
  },
  {
   "cell_type": "code",
   "execution_count": 12,
   "metadata": {},
   "outputs": [
    {
     "name": "stdout",
     "output_type": "stream",
     "text": [
      "{1.0: 0.71627928251428052, 100.0: 0.71627848521500448, 0.10000000000000001: 0.71628354241827574, 1000.0: 0.71627848521205528, 10.0: 0.71627861226315304, 0.001: 0.7161639862006195, 0.0001: 0.71123252316501495, 10000.0: 0.7162784979192548, 0.01: 0.71631595836318263}\n"
     ]
    }
   ],
   "source": [
    "clfLR = sklearn.linear_model.LogisticRegression(penalty='l2', random_state=0)\n",
    "\n",
    "Cset = numpy.logspace(-4, 4, 9)\n",
    "\n",
    "res = {}\n",
    "for C in Cset:\n",
    "    clfLR.C = C\n",
    "    scores = sklearn.cross_validation.cross_val_score(clfLR, scaled_data, y, cv=kfold, scoring='roc_auc')\n",
    "    res[C] = scores.mean()\n",
    "print res"
   ]
  },
  {
   "cell_type": "code",
   "execution_count": 13,
   "metadata": {},
   "outputs": [
    {
     "data": {
      "image/png": "[encoded data removed]"
     },
     "output_type": "display_data",
     "text": [
      "<matplotlib.figure.Figure at 0x1f74ac18>"
     ],
     "metadata": {}
    }
   ],
   "source": [
    "res_values = []\n",
    "for C in Cset:\n",
    "    res_values.append(res[C])\n",
    "\n",
    "plt.plot(Cset, res_values)\n",
    "plt.xlabel('C')\n",
    "plt.xscale('log')\n",
    "plt.ylabel('roc_auc')\n",
    "plt.show()"
   ]
  },
  {
   "cell_type": "markdown",
   "metadata": {},
   "source": [
    "The best model has C = 0.01 with quality roc_auc = 0.716315958363"
   ]
  },
  {
   "cell_type": "markdown",
   "metadata": {},
   "source": [
    "## Remove categorical features for logistic classification"
   ]
  },
  {
   "cell_type": "code",
   "execution_count": null,
   "metadata": {},
   "outputs": [],
   "source": [
    "scaled_data = pandas.DataFrame(scaled_data, columns = data.columns)\n",
    "scaled_data.drop(['lobby_type','r1_hero', 'r2_hero','r3_hero','r4_hero', 'r5_hero',  \n",
    "                  'd1_hero', 'd2_hero', 'd3_hero', 'd4_hero', 'd5_hero'],\n",
    "                 axis=1, inplace=True)"
   ]
  },
  {
   "cell_type": "markdown",
   "metadata": {},
   "source": [
    "## Calculate score on dataset without categorical features"
   ]
  },
  {
   "cell_type": "code",
   "execution_count": 17,
   "metadata": {},
   "outputs": [
    {
     "name": "stdout",
     "output_type": "stream",
     "text": [
      "0.716377624513\n"
     ]
    }
   ],
   "source": [
    "clfLR.C = 0.01\n",
    "scores = sklearn.cross_validation.cross_val_score(clfLR, scaled_data, y, cv=kfold, scoring='roc_auc')\n",
    "print scores.mean()"
   ]
  },
  {
   "cell_type": "markdown",
   "metadata": {},
   "source": [
    "We have got the same perfomance as on full dataset. That means that categorical features in current form don't help classifier to make predictions. We should transform these features."
   ]
  },
  {
   "cell_type": "markdown",
   "metadata": {},
   "source": [
    "## Calculate heroes ids"
   ]
  },
  {
   "cell_type": "code",
   "execution_count": 26,
   "metadata": {},
   "outputs": [],
   "source": [
    "heroes = data['r1_hero'].copy()\n",
    "heroes = heroes.append(data['r2_hero'])\n",
    "heroes = heroes.append(data['r3_hero'])\n",
    "heroes = heroes.append(data['r4_hero'])\n",
    "heroes = heroes.append(data['r5_hero'])\n",
    "heroes = heroes.append(data['d1_hero'])\n",
    "heroes = heroes.append(data['d2_hero'])\n",
    "heroes = heroes.append(data['d3_hero'])\n",
    "heroes = heroes.append(data['d4_hero'])\n",
    "heroes = heroes.append(data['d5_hero'])"
   ]
  },
  {
   "cell_type": "code",
   "execution_count": 31,
   "metadata": {},
   "outputs": [
    {
     "name": "stdout",
     "output_type": "stream",
     "text": [
      "(972300L,)\nUnique heros in the current dataset:  108\nrange of heroes ids: 1 - 112"
     ]
    },
    {
     "name": "stdout",
     "output_type": "stream",
     "text": [
      "\n"
     ]
    }
   ],
   "source": [
    "print heroes.shape\n",
    "print 'Unique heros in the current dataset: ', len(heroes.unique())\n",
    "print 'range of heroes ids: %i - %i'%(heroes.min(), heroes.max())"
   ]
  },
  {
   "cell_type": "markdown",
   "metadata": {},
   "source": [
    "## Transform categorical information about heroes"
   ]
  },
  {
   "cell_type": "code",
   "execution_count": 37,
   "metadata": {},
   "outputs": [],
   "source": [
    "Xpick = numpy.zeros((data.shape[0], 112))\n",
    "for i, matchid in enumerate(data.index):\n",
    "    for p in xrange(5):\n",
    "        Xpick[i, data.ix[matchid, 'r%d_hero' % (p+1)]-1] = 1\n",
    "        Xpick[i, data.ix[matchid, 'd%d_hero' % (p+1)]-1] = -1"
   ]
  },
  {
   "cell_type": "code",
   "execution_count": 42,
   "metadata": {},
   "outputs": [
    {
     "name": "stdout",
     "output_type": "stream",
     "text": [
      "(97230, 204)\n"
     ]
    }
   ],
   "source": [
    "pdX = pandas.DataFrame( Xpick, columns=['hero_%i'%x for x in range(1,113)])\n",
    "full_data = scaled_data.join(pdX)\n",
    "print full_data.shape"
   ]
  },
  {
   "cell_type": "code",
   "execution_count": 46,
   "metadata": {},
   "outputs": [],
   "source": [
    "clfLR = sklearn.linear_model.LogisticRegression(penalty='l2', random_state=0)\n",
    "\n",
    "Cset = numpy.logspace(-4, 4, 9)\n",
    "\n",
    "res = []\n",
    "for C in Cset:\n",
    "    clfLR.C = C\n",
    "    scores = sklearn.cross_validation.cross_val_score(clfLR, full_data, y, cv=kfold, scoring='roc_auc')\n",
    "    res.append(scores.mean())\n",
    "print res\n",
    "\n",
    "plt.plot(Cset, res)\n",
    "plt.xlabel('C')\n",
    "plt.xscale('log')\n",
    "plt.ylabel('roc_auc')\n",
    "plt.show()"
   ]
  },
  {
   "cell_type": "markdown",
   "metadata": {},
   "source": [
    "## Calculate roc-auc score based on probability predictions"
   ]
  },
  {
   "cell_type": "code",
   "execution_count": 47,
   "metadata": {},
   "outputs": [],
   "source": [
    "X_train, X_test, y_train, y_test = sklearn.cross_validation.train_test_split(full_data, y,\n",
    "                                      test_size=0.3,\n",
    "                                      random_state=241)\n",
    "clfLR.C = 0.1\n",
    "clfLR.fit(X_train, y_train)"
   ]
  },
  {
   "cell_type": "code",
   "execution_count": 55,
   "metadata": {},
   "outputs": [
    {
     "name": "stdout",
     "output_type": "stream",
     "text": [
      "aur-roc score: 0.753426\n"
     ]
    }
   ],
   "source": [
    "pred = clfLR.predict_proba(X_test)\n",
    "print \"aur-roc score: %f\"%sklearn.metrics.roc_auc_score(y_test, pred[:,1])"
   ]
  }
 ],
 "metadata": {},
 "nbformat": 4,
 "nbformat_minor": 0
}